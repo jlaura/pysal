{
 "cells": [
  {
   "cell_type": "code",
   "execution_count": 1,
   "metadata": {
    "collapsed": true
   },
   "outputs": [],
   "source": [
    "import requests\n",
    "import re"
   ]
  },
  {
   "cell_type": "code",
   "execution_count": 58,
   "metadata": {
    "collapsed": false
   },
   "outputs": [],
   "source": [
    "from HTMLParser import HTMLParser\n",
    "class ParseOL(HTMLParser):\n",
    "    \n",
    "    def __init__(self):\n",
    "        HTMLParser.__init__(self) #Old Style Class\n",
    "        self.attributes = []\n",
    "        \n",
    "    def handle_starttag(self, tag, attrs):\n",
    "        pass\n",
    "    \n",
    "    def handle_endtag(self, tag):\n",
    "        pass\n",
    "    \n",
    "    def handle_data(self, data):\n",
    "        self.attributes.append(data)"
   ]
  },
  {
   "cell_type": "code",
   "execution_count": 2,
   "metadata": {
    "collapsed": false
   },
   "outputs": [],
   "source": [
    "baseurl = 'http://www.newhavencrimelog.org'\n",
    "r = requests.get('{}/cl'.format(baseurl))"
   ]
  },
  {
   "cell_type": "code",
   "execution_count": 3,
   "metadata": {
    "collapsed": false
   },
   "outputs": [],
   "source": [
    "if r.status_code == 200:\n",
    "    headers = r.headers\n",
    "    txt = r.content.split('\\n')"
   ]
  },
  {
   "cell_type": "code",
   "execution_count": 4,
   "metadata": {
    "collapsed": false
   },
   "outputs": [],
   "source": [
    "pattern = re.compile(r'(\\/cl\\/types\\/\\d+\\/[a-z]*[a-z\\-]*\\/)')\n",
    "upper_pattern = re.compile(r'[A-Z]+[A-Z]')\n",
    "searchurls = []\n",
    "for l in txt:\n",
    "    p = pattern.search(l)\n",
    "    if p:\n",
    "        searchurls.append(p.group())\n",
    "        "
   ]
  },
  {
   "cell_type": "code",
   "execution_count": 5,
   "metadata": {
    "collapsed": false
   },
   "outputs": [
    {
     "name": "stdout",
     "output_type": "stream",
     "text": [
      "/cl/types/9/all-cases-dead-on-arrival/\n"
     ]
    }
   ],
   "source": [
    "print searchurls[0]"
   ]
  },
  {
   "cell_type": "code",
   "execution_count": 6,
   "metadata": {
    "collapsed": true
   },
   "outputs": [],
   "source": [
    "def extract_markers(txt):\n",
    "    pattern = re.compile(r'var markerList=')\n",
    "    marker_str = ''\n",
    "    searching = False\n",
    "    for i, l in enumerate(txt):\n",
    "        if 'markerList=' in l:\n",
    "            start = i\n",
    "            searching = True\n",
    "        if searching:\n",
    "            marker_str += l + '\\n'\n",
    "            if '];' in l:\n",
    "                break\n",
    "    return marker_str"
   ]
  },
  {
   "cell_type": "code",
   "execution_count": 133,
   "metadata": {
    "collapsed": false
   },
   "outputs": [],
   "source": [
    "crimes = {}\n",
    "dsearch = re.compile(r'-\\d+.\\d+,\\d+.\\d+')\n",
    "for cnt, url in enumerate(searchurls):\n",
    "    #Setup the search URL and data key\n",
    "    leaf = '{}{}'.format(baseurl, url)\n",
    "    k = leaf.split('/')[-2]\n",
    "    crimes[k] = { \"type\": \"FeatureCollection\",\n",
    "    \"features\": []}\n",
    "    \n",
    "    #Make the HTTP request\n",
    "    r = requests.get('{}{}'.format(baseurl, url))\n",
    "    txt = r.content.split('\\n')\n",
    "    \n",
    "    #Grab the markers tag from the map javascript\n",
    "    marker_str = extract_markers(txt)\n",
    "    \n",
    "    i = 0\n",
    "    for l in marker_str.split('\\n'):\n",
    "        #Found coordinates...\n",
    "        if '[ -' in l:\n",
    "\n",
    "            #Regex to grab coordinates\n",
    "            coords = map(float,dsearch.search(l).group().split(','))\n",
    "            \n",
    "            if len(coords) > 0:\n",
    "                #Create an HTML parser\n",
    "                parser = ParseOL()\n",
    "                \n",
    "                #Setup the geojson response\n",
    "                crimes[k]['features'].append({ \"type\": \"Feature\",\n",
    "                                               \"geometry\": {\"type\": \"Point\", \"coordinates\": []},\n",
    "                                               \"properties\": {}\n",
    "                                            })\n",
    "                cfeature = crimes[k]['features'][i]\n",
    "                #Get the HTML out and parse the values\n",
    "                parser.feed(l.split(\"'\")[1])\n",
    "                attributes = {}\n",
    "                for a in parser.attributes:\n",
    "                    if a[-1] == ':':\n",
    "                        key = a[:-1]\n",
    "                        attributes[key] = ''\n",
    "                        collect = True\n",
    "                        cstring = ''\n",
    "                    else:\n",
    "                        attributes[key] += ' {}'.format(a)\n",
    "\n",
    "                cfeature['geometry']['coordinates'] = coords\n",
    "                cfeature['properties'] = attributes\n",
    "                i += 1\n",
    "            else:\n",
    "                print l"
   ]
  },
  {
   "cell_type": "code",
   "execution_count": 134,
   "metadata": {
    "collapsed": false
   },
   "outputs": [
    {
     "name": "stdout",
     "output_type": "stream",
     "text": [
      "['recovered-prop-owner-unk', 'burglary-schoolnonforc', 'theft-of-license-plates', 'suspicious-fires', 'stolen-auto-nhrecvd-ot', 'dwi-drugs', 'theft-of-lic-reg-or-title', 'robbery-attempt-oth-weap', 'burglary-other-forcible', 'incident-unfounded', 'recovered-auto-stolen-ot', 'field-interrogation', 'assault-wdangerous-weapon', 'falsely-reporting-incident', 'forgerychecks-mv-document', 'robbery-street-firearm', 'crim-mischief-pub-propsvc', 'supplementary-investigation', 'robbery-res-firearm', 'assault-with-a-firearm', 'other-alarms', 'theft-university-acadbldg', 'awol', 'mv-accident-nonfatal', 'robbery-attempt-no-weapon', 'landlordtenant-dispute', 'unable-to-locate-complainant', 'wanted-personnew-haven', 'cruelty-to-animals', 'burglary-commnonforcible', 'possessdangcontrol-drugs', 'licensereg-check', 'medical-assistance-rendered', 'robbery-street-no-weapon', 'theft-of-auto', 'other-investigation', 'stolen-other-nhrecvd-ot', 'possession-of-paraphernalia', 'burglary-resforcible', 'building-found-open', 'theft-other-mv', 'burglary-aptforcible', 'fire-alarms-no-fire', 'littering-violations', 'crim-mischief-priv-prop', 'park-violation', 'custodial-interference', 'oper-wo-owners-permission', 'harassment', 'asslt-po-firefighter-or-co', 'possessof-narcoticsgeneral', 'suspicious-person', 'forgery-of-public-records', 'loitering-school-grounds', 'burglary-schoolforcible', 'patrol-division', 'found-dead-animal', 'injunction-violation', 'reckless-burning', 'stolen-auto-nhrecvd-nh', 'breach-of-peace', 'suspicious-activity', 'tampering-with-motor-veh', 'receiving-stolen-property', 'other-liquor-offenses', 'firearms-unlawful-discharge', 'common-drunkeness', 'animal-nuisance', 'neglect-or-abuse-of-family', 'burglar-alarms', 'wanted-personother-town', 'fraud-with-credit-card', 'dwi-alcohol', 'possession-of-heroin', 'burglary-resnonforcible', 'discrimination-housing', 'unwanted-person', 'found-property', 'detention-notice', 'burglary-commforcible', 'wrong-address', 'interfering-with-an-officer', 'burglary-aptnonforcible', 'threatening', 'warrant-service', 'fight', 'family-dispute', 'issuing-bad-checks', 'crim-impersonationnon-po', 'illegal-poss-of-a-weapon', 'burglary-nothing-taken', 'patronizing-a-prostitute', 'mv-violations-moving-veh', 'carrying-a-concealed-weapon', 'forgery-of-symbols-of-value', 'mv-accident-fatal', 'fraud', 'mv-violations-parked-veh', 'recovered-platesstolen-ot', 'neighbor-trouble', 'confidence-flim-flam', 'robbery-street-other-weap', 'loitering', 'sale-of-narcoticsgeneral', 'emotionally-disturbed', 'mv-accidentpriv-property', 'animal-shelter', 'recoveredother-stolen-ot', 'roving-gangs', 'non-motor-vehicle-accident', 'evading-responsibility', 'criminal-trespass', 'other-code-violations', 'theft-of-services', 'mv-accidentproperty-damage', 'drug-overdose', 'found-animal', 'att-theft-of-mv-or-documents', 'robbery-res-no-weapon', 'robbery-commfirearm', 'sudden-deathbodies-found', 'stolen-other-nhrecvd-nh', 'possession-of-marijuana', 'carrying-weapon-in-mv', 'fire-alarms-fire', 'fire-no-alarm', 'simple-assault', 'robbery-attempt-firearm', 'all-cases-dead-on-arrival', 'civil-investigation', 'found-intoxicated', 'lost-property', 'disputeno-disturbance', 'window-breaking', 'forging-narcotic-prescript', 'other-miscellaneous', 'door-checks', 'public-hazards', 'other-nuisances', 'other-internal-functions', 'arson', 'animal-bites', 'burglary-attempt', 'stolen-plate-nhrecvd-nh', 'disorderly-conduct', 'medical-assistance-needed', 'carrying-of-bb-gun']\n"
     ]
    }
   ],
   "source": [
    "print crimes.keys()"
   ]
  },
  {
   "cell_type": "code",
   "execution_count": 135,
   "metadata": {
    "collapsed": false
   },
   "outputs": [
    {
     "data": {
      "text/plain": [
       "{'features': [{'geometry': {'coordinates': [-72.873112, 41.315345],\n",
       "    'type': 'Point'},\n",
       "   'properties': {'date': ' Wed, Sept. 3rd 2014',\n",
       "    'intersections': ' HEMINGWAY/FOXON',\n",
       "    'street': ' 321 EASTERN ST',\n",
       "    'time': ' 04:54 p.m.'},\n",
       "   'type': 'Feature'},\n",
       "  {'geometry': {'coordinates': [-72.939412, 41.309609], 'type': 'Point'},\n",
       "   'properties': {'date': ' Tue, Sept. 16th 2014',\n",
       "    'intersections': ' GEORGE/CHAPEL',\n",
       "    'street': ' 162 DAY ST',\n",
       "    'time': ' 05:52 a.m.'},\n",
       "   'type': 'Feature'},\n",
       "  {'geometry': {'coordinates': [-72.8732, 41.315137], 'type': 'Point'},\n",
       "   'properties': {'date': ' Thu, Sept. 18th 2014',\n",
       "    'intersections': ' HEMINGWAY/FOXON',\n",
       "    'street': ' 311 EASTERN ST',\n",
       "    'time': ' 09:37 a.m.'},\n",
       "   'type': 'Feature'},\n",
       "  {'geometry': {'coordinates': [-72.931544, 41.311728], 'type': 'Point'},\n",
       "   'properties': {'date': ' Sun, Sept. 21st 2014',\n",
       "    'intersections': ' HOWE/INTERSECTION',\n",
       "    'street': ' 100 BROADWAY ST',\n",
       "    'time': ' 06:53 a.m.'},\n",
       "   'type': 'Feature'},\n",
       "  {'geometry': {'coordinates': [-72.931544, 41.311728], 'type': 'Point'},\n",
       "   'properties': {'date': ' Mon, Sept. 22nd 2014',\n",
       "    'intersections': ' HOWE/INTERSECTION',\n",
       "    'street': ' 100 BROADWAY ST',\n",
       "    'time': ' 01:11 a.m.'},\n",
       "   'type': 'Feature'},\n",
       "  {'geometry': {'coordinates': [-72.945741, 41.321569], 'type': 'Point'},\n",
       "   'properties': {'date': ' Tue, Sept. 23rd 2014',\n",
       "    'intersections': ' ANITA/GOFFE',\n",
       "    'street': ' 427 ELLSWORTH AVE',\n",
       "    'time': ' 11:20 p.m.'},\n",
       "   'type': 'Feature'},\n",
       "  {'geometry': {'coordinates': [-72.89917, 41.320938], 'type': 'Point'},\n",
       "   'properties': {'date': ' Wed, Sept. 24th 2014',\n",
       "    'intersections': ' CEDAR HILL/ROCK',\n",
       "    'street': ' 45 GRACE ST',\n",
       "    'time': ' 03:13 p.m.'},\n",
       "   'type': 'Feature'}],\n",
       " 'type': 'FeatureCollection'}"
      ]
     },
     "execution_count": 135,
     "metadata": {},
     "output_type": "execute_result"
    }
   ],
   "source": [
    "crimes['sudden-deathbodies-found']"
   ]
  },
  {
   "cell_type": "code",
   "execution_count": 136,
   "metadata": {
    "collapsed": true
   },
   "outputs": [],
   "source": [
    "import json\n",
    "for k, v in crimes.iteritems():\n",
    "    with open('new_haven_data/{}.json'.format(k), 'w') as f:\n",
    "        json.dump(v, f)"
   ]
  },
  {
   "cell_type": "code",
   "execution_count": null,
   "metadata": {
    "collapsed": true
   },
   "outputs": [],
   "source": []
  }
 ],
 "metadata": {
  "kernelspec": {
   "display_name": "Python 2",
   "language": "python",
   "name": "python2"
  },
  "language_info": {
   "codemirror_mode": {
    "name": "ipython",
    "version": 2
   },
   "file_extension": ".py",
   "mimetype": "text/x-python",
   "name": "python",
   "nbconvert_exporter": "python",
   "pygments_lexer": "ipython2",
   "version": "2.7.10"
  }
 },
 "nbformat": 4,
 "nbformat_minor": 0
}
